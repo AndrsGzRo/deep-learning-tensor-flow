{
  "nbformat": 4,
  "nbformat_minor": 0,
  "metadata": {
    "colab": {
      "provenance": [],
      "authorship_tag": "ABX9TyOLuz/xMdHrPP3CdnvyWh9O"
    },
    "kernelspec": {
      "name": "python3",
      "display_name": "Python 3"
    },
    "language_info": {
      "name": "python"
    }
  },
  "cells": [
    {
      "cell_type": "code",
      "execution_count": null,
      "metadata": {
        "id": "cwypNNDv3UV2"
      },
      "outputs": [],
      "source": [
        "import tensorflow as tf\n",
        "import PIL.Image"
      ]
    },
    {
      "cell_type": "code",
      "source": [
        "from google.colab import drive\n",
        "drive.mount('/content/drive/')"
      ],
      "metadata": {
        "colab": {
          "base_uri": "https://localhost:8080/"
        },
        "id": "l9U8Jr0z3_cb",
        "outputId": "5081e25c-c631-49ec-a1b6-1277a54933cd"
      },
      "execution_count": null,
      "outputs": [
        {
          "output_type": "stream",
          "name": "stdout",
          "text": [
            "Mounted at /content/drive/\n"
          ]
        }
      ]
    },
    {
      "cell_type": "code",
      "source": [
        "BASE_DIR = '\\\n",
        "/content/drive/MyDrive/Colab/'"
      ],
      "metadata": {
        "id": "EMH-qFmK4I6Z"
      },
      "execution_count": null,
      "outputs": []
    },
    {
      "cell_type": "code",
      "source": [
        "imagen1 = tf.keras.preprocessing.image.load_img(\n",
        "    BASE_DIR+'trigobn.jpg',color_mode='grayscale')\n",
        "print(imagen1)"
      ],
      "metadata": {
        "colab": {
          "base_uri": "https://localhost:8080/"
        },
        "id": "NK9Lgvbv4dh5",
        "outputId": "f1ff049d-f366-4be8-a302-9295bef39db7"
      },
      "execution_count": null,
      "outputs": [
        {
          "output_type": "stream",
          "name": "stdout",
          "text": [
            "<PIL.JpegImagePlugin.JpegImageFile image mode=L size=224x224 at 0x7A191DF061E0>\n"
          ]
        }
      ]
    },
    {
      "cell_type": "code",
      "source": [
        "matriz_imagen1 = tf.keras.preprocessing.image.img_to_array(imagen1)\n",
        "print(matriz_imagen1)"
      ],
      "metadata": {
        "colab": {
          "base_uri": "https://localhost:8080/"
        },
        "id": "P86yCqC94yzN",
        "outputId": "5b35eb90-5be9-48bc-9db9-6f1060541e33"
      },
      "execution_count": null,
      "outputs": [
        {
          "output_type": "stream",
          "name": "stdout",
          "text": [
            "[[[255.]\n",
            "  [255.]\n",
            "  [255.]\n",
            "  ...\n",
            "  [255.]\n",
            "  [255.]\n",
            "  [255.]]\n",
            "\n",
            " [[255.]\n",
            "  [255.]\n",
            "  [255.]\n",
            "  ...\n",
            "  [255.]\n",
            "  [255.]\n",
            "  [255.]]\n",
            "\n",
            " [[255.]\n",
            "  [255.]\n",
            "  [255.]\n",
            "  ...\n",
            "  [255.]\n",
            "  [255.]\n",
            "  [255.]]\n",
            "\n",
            " ...\n",
            "\n",
            " [[  0.]\n",
            "  [  0.]\n",
            "  [  0.]\n",
            "  ...\n",
            "  [255.]\n",
            "  [255.]\n",
            "  [255.]]\n",
            "\n",
            " [[  0.]\n",
            "  [  0.]\n",
            "  [  0.]\n",
            "  ...\n",
            "  [255.]\n",
            "  [255.]\n",
            "  [255.]]\n",
            "\n",
            " [[  0.]\n",
            "  [  0.]\n",
            "  [  0.]\n",
            "  ...\n",
            "  [255.]\n",
            "  [255.]\n",
            "  [255.]]]\n"
          ]
        }
      ]
    },
    {
      "cell_type": "markdown",
      "source": [
        "Color Negro = 0\n",
        "Color Blanco = 255"
      ],
      "metadata": {
        "id": "n6bN6f9p476j"
      }
    },
    {
      "cell_type": "code",
      "source": [
        "PIL.Image.open(BASE_DIR+'trigobn.jpg')"
      ],
      "metadata": {
        "colab": {
          "base_uri": "https://localhost:8080/",
          "height": 241
        },
        "id": "wnJa0e1W5Cph",
        "outputId": "e3e922d3-2cc4-4f0d-a3d2-c289d21eb81d"
      },
      "execution_count": null,
      "outputs": [
        {
          "output_type": "execute_result",
          "data": {
            "text/plain": [
              "<PIL.JpegImagePlugin.JpegImageFile image mode=L size=224x224>"
            ],
            "image/png": "[encoded data removed]",
            "image/jpeg": "[encoded data removed]"
          },
          "metadata": {},
          "execution_count": 8
        }
      ]
    },
    {
      "cell_type": "markdown",
      "source": [
        "Para trabajar con la imagen en TensorFlow, se necesita cargarla dentro de un tensor."
      ],
      "metadata": {
        "id": "8WRjEvTp5K_8"
      }
    },
    {
      "cell_type": "code",
      "source": [
        "tensor_imagen1 = tf.constant(matriz_imagen1)\n",
        "print(tensor_imagen1.get_shape())\n",
        "print(tensor_imagen1.dtype)"
      ],
      "metadata": {
        "colab": {
          "base_uri": "https://localhost:8080/"
        },
        "id": "Apl1bL5c5Otb",
        "outputId": "4644bbc0-b0f4-4125-f5eb-6d59e5377c0b"
      },
      "execution_count": null,
      "outputs": [
        {
          "output_type": "stream",
          "name": "stdout",
          "text": [
            "(224, 224, 1)\n",
            "<dtype: 'float32'>\n"
          ]
        }
      ]
    },
    {
      "cell_type": "markdown",
      "source": [
        "(x,y,z)\n",
        "x - número de filas\n",
        "y - número de columnas\n",
        "z - valores asociados al pixel"
      ],
      "metadata": {
        "id": "4UJJf_nr5fHT"
      }
    },
    {
      "cell_type": "code",
      "source": [
        "PIL.Image.open(BASE_DIR+'trigogs.jpg')"
      ],
      "metadata": {
        "colab": {
          "base_uri": "https://localhost:8080/",
          "height": 241
        },
        "id": "jDLYUYL-5864",
        "outputId": "d1b198e7-e081-40dc-ee75-f1ab94b33d69"
      },
      "execution_count": null,
      "outputs": [
        {
          "output_type": "execute_result",
          "data": {
            "text/plain": [
              "<PIL.JpegImagePlugin.JpegImageFile image mode=L size=224x224>"
            ],
            "image/png": "[encoded data removed]",
            "image/jpeg": "[encoded data removed]"
          },
          "metadata": {},
          "execution_count": 13
        }
      ]
    },
    {
      "cell_type": "code",
      "source": [
        "imagen2 = tf.keras.preprocessing.image.load_img(\n",
        "    BASE_DIR+'trigogs.jpg',color_mode='grayscale')\n",
        "matriz_imagen2 = tf.keras.preprocessing.image.img_to_array(imagen2)\n",
        "tensor_imagen2 = tf.constant(matriz_imagen2)\n",
        "print(tensor_imagen2)"
      ],
      "metadata": {
        "colab": {
          "base_uri": "https://localhost:8080/"
        },
        "id": "SmLabzTc5sd7",
        "outputId": "fb78d5a0-0dc2-4803-b0b8-65c380eeb47c"
      },
      "execution_count": null,
      "outputs": [
        {
          "output_type": "stream",
          "name": "stdout",
          "text": [
            "tf.Tensor(\n",
            "[[[255.]\n",
            "  [255.]\n",
            "  [255.]\n",
            "  ...\n",
            "  [255.]\n",
            "  [255.]\n",
            "  [255.]]\n",
            "\n",
            " [[255.]\n",
            "  [255.]\n",
            "  [255.]\n",
            "  ...\n",
            "  [255.]\n",
            "  [255.]\n",
            "  [255.]]\n",
            "\n",
            " [[255.]\n",
            "  [255.]\n",
            "  [255.]\n",
            "  ...\n",
            "  [255.]\n",
            "  [255.]\n",
            "  [255.]]\n",
            "\n",
            " ...\n",
            "\n",
            " [[175.]\n",
            "  [193.]\n",
            "  [209.]\n",
            "  ...\n",
            "  [255.]\n",
            "  [255.]\n",
            "  [255.]]\n",
            "\n",
            " [[177.]\n",
            "  [194.]\n",
            "  [207.]\n",
            "  ...\n",
            "  [255.]\n",
            "  [255.]\n",
            "  [255.]]\n",
            "\n",
            " [[181.]\n",
            "  [195.]\n",
            "  [203.]\n",
            "  ...\n",
            "  [255.]\n",
            "  [255.]\n",
            "  [255.]]], shape=(224, 224, 1), dtype=float32)\n"
          ]
        }
      ]
    },
    {
      "cell_type": "code",
      "source": [
        "imagen3 = tf.keras.preprocessing.image.load_img(\n",
        "    BASE_DIR+'trigorgb.jpg')\n",
        "matriz_imagen3 = tf.keras.preprocessing.image.img_to_array(imagen3)\n",
        "tensor_imagen3 = tf.constant(matriz_imagen3)\n",
        "print(tensor_imagen3)"
      ],
      "metadata": {
        "colab": {
          "base_uri": "https://localhost:8080/"
        },
        "id": "tothRCOn7E5A",
        "outputId": "4f58f151-47b7-494b-9849-2dbb38a60d9f"
      },
      "execution_count": null,
      "outputs": [
        {
          "output_type": "stream",
          "name": "stdout",
          "text": [
            "tf.Tensor(\n",
            "[[[255. 255. 255.]\n",
            "  [255. 255. 255.]\n",
            "  [255. 255. 255.]\n",
            "  ...\n",
            "  [255. 255. 255.]\n",
            "  [255. 255. 255.]\n",
            "  [255. 255. 255.]]\n",
            "\n",
            " [[255. 255. 255.]\n",
            "  [255. 255. 255.]\n",
            "  [255. 255. 255.]\n",
            "  ...\n",
            "  [255. 255. 255.]\n",
            "  [255. 255. 255.]\n",
            "  [255. 255. 255.]]\n",
            "\n",
            " [[255. 255. 255.]\n",
            "  [255. 255. 255.]\n",
            "  [255. 255. 255.]\n",
            "  ...\n",
            "  [255. 255. 255.]\n",
            "  [255. 255. 255.]\n",
            "  [255. 255. 255.]]\n",
            "\n",
            " ...\n",
            "\n",
            " [[223. 166.  95.]\n",
            "  [241. 184. 113.]\n",
            "  [255. 200. 127.]\n",
            "  ...\n",
            "  [255. 255. 255.]\n",
            "  [255. 255. 255.]\n",
            "  [255. 255. 255.]]\n",
            "\n",
            " [[225. 168.  97.]\n",
            "  [242. 185. 114.]\n",
            "  [255. 198. 125.]\n",
            "  ...\n",
            "  [255. 255. 255.]\n",
            "  [255. 255. 255.]\n",
            "  [255. 255. 255.]]\n",
            "\n",
            " [[229. 172. 101.]\n",
            "  [243. 186. 115.]\n",
            "  [252. 194. 121.]\n",
            "  ...\n",
            "  [255. 255. 255.]\n",
            "  [255. 255. 255.]\n",
            "  [255. 255. 255.]]], shape=(224, 224, 3), dtype=float32)\n"
          ]
        }
      ]
    },
    {
      "cell_type": "markdown",
      "source": [
        "# Convolución, padding y stringe en imágenes para la construcción de imágnenes inteligentes en tensorflow"
      ],
      "metadata": {
        "id": "Vs0e7YhU8CL7"
      }
    },
    {
      "cell_type": "code",
      "source": [
        "vista = tf.constant([[155,139,157,182,203,217],[136,97,125,176,213,222],\n",
        "                    [118,62,89,141,203,225],[108,53,60,89,155,202],\n",
        "                    [171,133,106,78,99,149],[223,207,180,122,100,150]])\n",
        "print(vista)"
      ],
      "metadata": {
        "colab": {
          "base_uri": "https://localhost:8080/"
        },
        "id": "JFEOuJs58QoT",
        "outputId": "b3988e02-4e6d-46f4-bf08-b554b65ad30a"
      },
      "execution_count": null,
      "outputs": [
        {
          "output_type": "stream",
          "name": "stdout",
          "text": [
            "tf.Tensor(\n",
            "[[155 139 157 182 203 217]\n",
            " [136  97 125 176 213 222]\n",
            " [118  62  89 141 203 225]\n",
            " [108  53  60  89 155 202]\n",
            " [171 133 106  78  99 149]\n",
            " [223 207 180 122 100 150]], shape=(6, 6), dtype=int32)\n"
          ]
        }
      ]
    },
    {
      "cell_type": "code",
      "source": [
        "# normalizando\n",
        "vista_norm = vista/255\n",
        "print(vista_norm)"
      ],
      "metadata": {
        "colab": {
          "base_uri": "https://localhost:8080/"
        },
        "id": "5CnfmFZT9B1h",
        "outputId": "c57c346a-f6a0-4955-dfd3-dab2eb9220a9"
      },
      "execution_count": null,
      "outputs": [
        {
          "output_type": "stream",
          "name": "stdout",
          "text": [
            "tf.Tensor(\n",
            "[[0.60784314 0.54509804 0.61568627 0.71372549 0.79607843 0.85098039]\n",
            " [0.53333333 0.38039216 0.49019608 0.69019608 0.83529412 0.87058824]\n",
            " [0.4627451  0.24313725 0.34901961 0.55294118 0.79607843 0.88235294]\n",
            " [0.42352941 0.20784314 0.23529412 0.34901961 0.60784314 0.79215686]\n",
            " [0.67058824 0.52156863 0.41568627 0.30588235 0.38823529 0.58431373]\n",
            " [0.8745098  0.81176471 0.70588235 0.47843137 0.39215686 0.58823529]], shape=(6, 6), dtype=float64)\n"
          ]
        }
      ]
    },
    {
      "cell_type": "code",
      "source": [
        "# kernel\n",
        "initializer = tf.keras.initializers.GlorotUniform()\n",
        "valores = initializer(shape=(3,3))\n",
        "print(valores)"
      ],
      "metadata": {
        "colab": {
          "base_uri": "https://localhost:8080/"
        },
        "id": "YN3jLf5W99q0",
        "outputId": "2b234788-1462-436b-dc98-cafa4edef51a"
      },
      "execution_count": null,
      "outputs": [
        {
          "output_type": "stream",
          "name": "stdout",
          "text": [
            "tf.Tensor(\n",
            "[[-0.1103158   0.635628    0.36464548]\n",
            " [ 0.17827201  0.43517447 -0.01313519]\n",
            " [ 0.5225365  -0.7055619   0.5701816 ]], shape=(3, 3), dtype=float32)\n"
          ]
        }
      ]
    },
    {
      "cell_type": "code",
      "source": [
        "kernel = tf.constant([[-0.1103158,0.635628,0.36464548],\n",
        "                      [0.17827201,0.43517447,-0.01313519],\n",
        "                      [0.5225365,-0.7055619,0.5701816 ]],dtype=tf.float64)\n",
        "print(kernel)"
      ],
      "metadata": {
        "colab": {
          "base_uri": "https://localhost:8080/"
        },
        "id": "yIbj2OTl-MZv",
        "outputId": "303e0421-4da9-4c13-98f0-785eca8c6c81"
      },
      "execution_count": null,
      "outputs": [
        {
          "output_type": "stream",
          "name": "stdout",
          "text": [
            "tf.Tensor(\n",
            "[[-0.1103158   0.635628    0.36464548]\n",
            " [ 0.17827201  0.43517447 -0.01313519]\n",
            " [ 0.5225365  -0.7055619   0.5701816 ]], shape=(3, 3), dtype=float64)\n"
          ]
        }
      ]
    },
    {
      "cell_type": "markdown",
      "source": [
        "El nombre del parámetro asociado al tamaño del lote de imágenes por procesar debe ser **batch**, después, se debe crear un nuevo bloque de código."
      ],
      "metadata": {
        "id": "A5GfZCZxBDte"
      }
    },
    {
      "cell_type": "code",
      "source": [
        "imagen = tf.reshape(vista_norm,[1,6,6,1],name='imagen')\n",
        "k = tf.reshape(kernel,[3,3,1,1],name='kernel')"
      ],
      "metadata": {
        "id": "m7U80D_aBNhX"
      },
      "execution_count": null,
      "outputs": []
    },
    {
      "cell_type": "markdown",
      "source": [
        "[tamaño del batch, alto de la imagen, ancho de la imagen, # canales de entrada]\n",
        "\n",
        "[1,6,6,1]\n",
        "\n",
        "Si fueran más imágenes, el valor de este parámetro incrementaría (batch).\n",
        "El alto de la imagen es de 6 px,al igual que el ancho. Finalmente, el número de canales de entrada se relaciona al formato de la imagen, es decir, el número de valores numéricos necesarios para expresar el color de cada píxel.\n",
        "\n",
        "[3,3,1,1]\n",
        "[alto del kernel, ancho del kernel, # canales de entrada, # canales de salida]\n",
        "\n",
        "El cambio de forma de los tensores asociados a la matriz inicial y el kernel  es necesario para realizar la convolución con TF.\n"
      ],
      "metadata": {
        "id": "0BL4bXhGBdD2"
      }
    },
    {
      "cell_type": "code",
      "source": [
        "conv = tf.reshape(tf.nn.conv2d(\n",
        "    input=imagen,\n",
        "    filters=k,\n",
        "    strides=[1,1,1,1],\n",
        "    padding='VALID'),[4,4]) # se quita el batch y canales, quedando 4x4\n",
        "print(conv)"
      ],
      "metadata": {
        "colab": {
          "base_uri": "https://localhost:8080/"
        },
        "id": "Ak0hZxxTCC6U",
        "outputId": "4f58cef2-9176-4307-f94a-4c3763590c2f"
      },
      "execution_count": null,
      "outputs": [
        {
          "output_type": "stream",
          "name": "stdout",
          "text": [
            "tf.Tensor(\n",
            "[[1.02736601 1.05960956 1.29895312 1.44303742]\n",
            " [0.75424154 0.85085759 1.20488327 1.41084773]\n",
            " [0.61305055 0.68516916 1.0118525  1.30216631]\n",
            " [0.79894239 0.72268465 0.87454208 1.16122929]], shape=(4, 4), dtype=float64)\n"
          ]
        }
      ]
    },
    {
      "cell_type": "markdown",
      "source": [
        "Para realizar la convolución se usa\n",
        "```\n",
        "tf.nn.convd2d\n",
        "```\n",
        "- El primer parámetro es el tensor asociad con la **matriz inicial normalizada**.\n",
        "- El segundo elemento es el tensor que contiene el kernel **k**.\n",
        "- El tercer elemento define el **stride** que es un arreglo con 4 valores, esto es debido que tenemos que especificar cual será el desplazamiento por lote de las imágenes.\n",
        "- Finalmente está el despplazamiento entre canales."
      ],
      "metadata": {
        "id": "bq4mdbjTCUoW"
      }
    },
    {
      "cell_type": "markdown",
      "source": [
        "# DeepLearning y otras operaciones"
      ],
      "metadata": {
        "id": "Z1csq6t7IJM_"
      }
    },
    {
      "cell_type": "code",
      "source": [
        "# Pooling\n",
        "segmento_manzana = tf.constant([[142,146,142,150,155,164,174,176],\n",
        "                     [136,141,138,140,145,155,167,173],\n",
        "                     [123,129,133,138,140,146,156,165],\n",
        "                     [113,119,131,139,138,139,144,155],\n",
        "                     [117,117,124,138,145,149,138,139],\n",
        "                     [120,120,124,145,146,148,140,136],\n",
        "                     [129,122,117,138,141,144,141,140],\n",
        "                     [133,124,119,129,135,138,137,144]])\n",
        "print(segmento_manzana)"
      ],
      "metadata": {
        "colab": {
          "base_uri": "https://localhost:8080/"
        },
        "id": "8t1YY1ooIL0X",
        "outputId": "a98811e1-5edc-4ff3-e930-56693f4dc6dd"
      },
      "execution_count": null,
      "outputs": [
        {
          "output_type": "stream",
          "name": "stdout",
          "text": [
            "tf.Tensor(\n",
            "[[142 146 142 150 155 164 174 176]\n",
            " [136 141 138 140 145 155 167 173]\n",
            " [123 129 133 138 140 146 156 165]\n",
            " [113 119 131 139 138 139 144 155]\n",
            " [117 117 124 138 145 149 138 139]\n",
            " [120 120 124 145 146 148 140 136]\n",
            " [129 122 117 138 141 144 141 140]\n",
            " [133 124 119 129 135 138 137 144]], shape=(8, 8), dtype=int32)\n"
          ]
        }
      ]
    },
    {
      "cell_type": "code",
      "source": [
        "lote = tf.reshape(segmento_manzana,[1,8,8,1],name='imageninicial')\n",
        "print(lote)"
      ],
      "metadata": {
        "colab": {
          "base_uri": "https://localhost:8080/"
        },
        "id": "t8w6pnjtI27o",
        "outputId": "74e6fd64-791e-4967-b8aa-3f58f855aed0"
      },
      "execution_count": null,
      "outputs": [
        {
          "output_type": "stream",
          "name": "stdout",
          "text": [
            "tf.Tensor(\n",
            "[[[[142]\n",
            "   [146]\n",
            "   [142]\n",
            "   [150]\n",
            "   [155]\n",
            "   [164]\n",
            "   [174]\n",
            "   [176]]\n",
            "\n",
            "  [[136]\n",
            "   [141]\n",
            "   [138]\n",
            "   [140]\n",
            "   [145]\n",
            "   [155]\n",
            "   [167]\n",
            "   [173]]\n",
            "\n",
            "  [[123]\n",
            "   [129]\n",
            "   [133]\n",
            "   [138]\n",
            "   [140]\n",
            "   [146]\n",
            "   [156]\n",
            "   [165]]\n",
            "\n",
            "  [[113]\n",
            "   [119]\n",
            "   [131]\n",
            "   [139]\n",
            "   [138]\n",
            "   [139]\n",
            "   [144]\n",
            "   [155]]\n",
            "\n",
            "  [[117]\n",
            "   [117]\n",
            "   [124]\n",
            "   [138]\n",
            "   [145]\n",
            "   [149]\n",
            "   [138]\n",
            "   [139]]\n",
            "\n",
            "  [[120]\n",
            "   [120]\n",
            "   [124]\n",
            "   [145]\n",
            "   [146]\n",
            "   [148]\n",
            "   [140]\n",
            "   [136]]\n",
            "\n",
            "  [[129]\n",
            "   [122]\n",
            "   [117]\n",
            "   [138]\n",
            "   [141]\n",
            "   [144]\n",
            "   [141]\n",
            "   [140]]\n",
            "\n",
            "  [[133]\n",
            "   [124]\n",
            "   [119]\n",
            "   [129]\n",
            "   [135]\n",
            "   [138]\n",
            "   [137]\n",
            "   [144]]]], shape=(1, 8, 8, 1), dtype=int32)\n"
          ]
        }
      ]
    },
    {
      "cell_type": "code",
      "source": [
        "#max-pooling\n",
        "maxpooling = tf.reshape(tf.nn.max_pool(lote,[1,2,2,1],\n",
        "                                       [1,2,2,1],\n",
        "                                       padding='VALID'),[4,4])\n",
        "print(maxpooling)"
      ],
      "metadata": {
        "colab": {
          "base_uri": "https://localhost:8080/"
        },
        "id": "gXmUSALeJDZV",
        "outputId": "f08969ec-0a16-41f5-fe04-ebd9b36e970c"
      },
      "execution_count": null,
      "outputs": [
        {
          "output_type": "stream",
          "name": "stdout",
          "text": [
            "tf.Tensor(\n",
            "[[146 150 164 176]\n",
            " [129 139 146 165]\n",
            " [120 145 149 140]\n",
            " [133 138 144 144]], shape=(4, 4), dtype=int32)\n"
          ]
        }
      ]
    },
    {
      "cell_type": "markdown",
      "source": [
        "La operación\n",
        "\n",
        "```\n",
        "tf.nn.max_pool\n",
        "```\n",
        "Recibe:\n",
        "- Como primer parámetro el lote de imágenes al que se le aplicará el **max-pooling.**\n",
        "- El segundo, es una lista donde se especificará el tamaño de la región a operar en cada elemento del lote, y al final, el número de canales según el formato de la imagen.\n",
        "- El tercero es el **stride**.\n",
        "\n",
        "\n"
      ],
      "metadata": {
        "id": "ojRR9cP4JUC-"
      }
    }
  ]
}