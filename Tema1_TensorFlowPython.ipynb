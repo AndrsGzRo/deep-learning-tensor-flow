{
  "nbformat": 4,
  "nbformat_minor": 0,
  "metadata": {
    "colab": {
      "provenance": [],
      "authorship_tag": "ABX9TyNlpaQeEcq8yFFlbiGpz8ve"
    },
    "kernelspec": {
      "name": "python3",
      "display_name": "Python 3"
    },
    "language_info": {
      "name": "python"
    }
  },
  "cells": [
    {
      "cell_type": "markdown",
      "source": [
        "# Operaciones Básicas con Tensores"
      ],
      "metadata": {
        "id": "Whob0UpY-Y94"
      }
    },
    {
      "cell_type": "code",
      "source": [
        "import tensorflow as tf\n",
        "\n",
        "print(\"Versión de TF:\", tf.__version__)\n",
        "print(\"Eager execution activo?:\", tf.executing_eagerly())\n"
      ],
      "metadata": {
        "colab": {
          "base_uri": "https://localhost:8080/"
        },
        "id": "zFvb8KtlBmcC",
        "outputId": "c3fad1ea-faa4-4fbe-b6e3-68dfb8c26d30"
      },
      "execution_count": null,
      "outputs": [
        {
          "output_type": "stream",
          "name": "stdout",
          "text": [
            "Versión de TF: 2.19.0\n",
            "Eager execution activo?: True\n",
            "tf.Tensor([378 224 170 210 400 290], shape=(6,), dtype=int32)\n",
            "[378 224 170 210 400 290]\n"
          ]
        }
      ]
    },
    {
      "cell_type": "code",
      "source": [
        "\n",
        "# Crear tensores explícitamente\n",
        "a = tf.constant([345, 200, 123, 145, 280, 200])\n",
        "b = tf.constant([33, 24, 47, 65, 120, 90])\n",
        "\n",
        "# Sumar\n",
        "result = tf.add(a, b)\n",
        "\n",
        "# Mostrar resultado\n",
        "print(result)         # tf.Tensor([...], shape=(6,), dtype=int32)\n",
        "print(result.numpy()) # [378 224 170 210 400 290]"
      ],
      "metadata": {
        "colab": {
          "base_uri": "https://localhost:8080/"
        },
        "id": "gcJiF-AyC-Rj",
        "outputId": "cb368727-f7e7-46fd-8f5c-b0b3781e658e"
      },
      "execution_count": null,
      "outputs": [
        {
          "output_type": "stream",
          "name": "stdout",
          "text": [
            "tf.Tensor([378 224 170 210 400 290], shape=(6,), dtype=int32)\n",
            "[378 224 170 210 400 290]\n"
          ]
        }
      ]
    },
    {
      "cell_type": "code",
      "source": [
        "c = tf.constant([34])\n",
        "d = tf.constant([1430,242,53,234,353,200])\n",
        "\n",
        "# Restar\n",
        "result = tf.subtract(d,c)\n",
        "print(result.numpy())\n"
      ],
      "metadata": {
        "colab": {
          "base_uri": "https://localhost:8080/"
        },
        "id": "1bqWFvfuDAPa",
        "outputId": "80c11b20-6b41-44d4-809d-7042be2efe9a"
      },
      "execution_count": null,
      "outputs": [
        {
          "output_type": "stream",
          "name": "stdout",
          "text": [
            "[1396  208   19  200  319  166]\n"
          ]
        }
      ]
    },
    {
      "cell_type": "code",
      "source": [
        "matriz4x3 = tf.constant([3,4,3,4,5,2,6,6,3,2,1,3],shape=[4,3])\n",
        "print(matriz4x3)"
      ],
      "metadata": {
        "colab": {
          "base_uri": "https://localhost:8080/"
        },
        "id": "s9eOtODXFNZ_",
        "outputId": "3359da88-aceb-4958-f3e1-212ea0ab1ab9"
      },
      "execution_count": null,
      "outputs": [
        {
          "output_type": "stream",
          "name": "stdout",
          "text": [
            "tf.Tensor(\n",
            "[[3 4 3]\n",
            " [4 5 2]\n",
            " [6 6 3]\n",
            " [2 1 3]], shape=(4, 3), dtype=int32)\n"
          ]
        }
      ]
    },
    {
      "cell_type": "code",
      "source": [
        "matriz3x2 = tf.constant([1,2,2,1,1,2],shape=[3,2])\n",
        "print(matriz3x2)"
      ],
      "metadata": {
        "colab": {
          "base_uri": "https://localhost:8080/"
        },
        "id": "0uSFVrKFFdt8",
        "outputId": "8f57b50e-dd25-4257-9dd0-bbb93fdd1e56"
      },
      "execution_count": null,
      "outputs": [
        {
          "output_type": "stream",
          "name": "stdout",
          "text": [
            "tf.Tensor(\n",
            "[[1 2]\n",
            " [2 1]\n",
            " [1 2]], shape=(3, 2), dtype=int32)\n"
          ]
        }
      ]
    },
    {
      "cell_type": "code",
      "source": [
        "print (tf.matmul(matriz4x3,matriz3x2))"
      ],
      "metadata": {
        "colab": {
          "base_uri": "https://localhost:8080/"
        },
        "id": "Ha3__tVqFv6b",
        "outputId": "45942015-fc7f-4c38-b43d-950cf6583506"
      },
      "execution_count": null,
      "outputs": [
        {
          "output_type": "stream",
          "name": "stdout",
          "text": [
            "tf.Tensor(\n",
            "[[14 16]\n",
            " [16 17]\n",
            " [21 24]\n",
            " [ 7 11]], shape=(4, 2), dtype=int32)\n"
          ]
        }
      ]
    },
    {
      "cell_type": "code",
      "source": [
        "ventasxvend = tf.constant([13,24,23,28,34,45,20,12,35,50,35])\n",
        "print(tf.reduce_max(ventasxvend))\n",
        "print(tf.reduce_min(ventasxvend))\n",
        "print(tf.reduce_mean(ventasxvend))"
      ],
      "metadata": {
        "colab": {
          "base_uri": "https://localhost:8080/"
        },
        "id": "NqyeTAoFFzdV",
        "outputId": "4d82c025-91d9-4ec1-da7a-773bf1a11c46"
      },
      "execution_count": null,
      "outputs": [
        {
          "output_type": "stream",
          "name": "stdout",
          "text": [
            "tf.Tensor(50, shape=(), dtype=int32)\n",
            "tf.Tensor(12, shape=(), dtype=int32)\n",
            "tf.Tensor(29, shape=(), dtype=int32)\n"
          ]
        }
      ]
    },
    {
      "cell_type": "code",
      "source": [
        "def funcion_ejemplo_python(num_ventas,precios):\n",
        "    total = tf.matmul(num_ventas,precios)\n",
        "    comision = tf.multiply(tf.cast(total,tf.float32),0.07)\n",
        "    return comision\n",
        "funcion_grafo = tf.function(funcion_ejemplo_python)\n",
        "n_ventas = tf.constant([3,5,9],shape=[1,3])\n",
        "preciosxprod = tf.constant([1800,759,599],shape = [3,1])\n",
        "print(funcion_grafo(n_ventas,preciosxprod))"
      ],
      "metadata": {
        "colab": {
          "base_uri": "https://localhost:8080/"
        },
        "id": "ZxcnLW8wHWgS",
        "outputId": "5529f012-c700-4d67-c332-50bd66a573c7"
      },
      "execution_count": null,
      "outputs": [
        {
          "output_type": "stream",
          "name": "stdout",
          "text": [
            "tf.Tensor([[1021.02]], shape=(1, 1), dtype=float32)\n"
          ]
        }
      ]
    },
    {
      "cell_type": "markdown",
      "source": [
        "# TensorFlow en Python"
      ],
      "metadata": {
        "id": "ZK2YiiSRIGIg"
      }
    },
    {
      "cell_type": "code",
      "source": [
        "escalar = tf.Variable(1342, shape=(), dtype = tf.int16)\n",
        "vectorFila = tf.Variable([12,21,21,21],shape=(4,),dtype=tf.int32)\n",
        "vectorCol = tf.Variable([[12],[21],[21],[12]],shape=(4,1),dtype=tf.int32)\n",
        "matriz = tf.Variable([[32,43,23],[23,44,53],[60,54,81],[56,73,24]],\n",
        "                     shale = (4,3),dtype = tf.int32)\n",
        "texto = tf.Variable('Este registro fue generado con la información de los clientes',\n",
        "                   shape=(),dtype=tf.string)"
      ],
      "metadata": {
        "id": "oMyhYskD4FRA"
      },
      "execution_count": null,
      "outputs": []
    },
    {
      "cell_type": "code",
      "source": [
        "print(escalar)\n",
        "print(vectorFila)\n",
        "print(vectorCol)\n",
        "print(matriz)\n",
        "print(texto)"
      ],
      "metadata": {
        "colab": {
          "base_uri": "https://localhost:8080/"
        },
        "id": "P3AeAnqP42j7",
        "outputId": "5955405f-f615-4fc8-fe1f-0687a9389f5a"
      },
      "execution_count": null,
      "outputs": [
        {
          "output_type": "stream",
          "name": "stdout",
          "text": [
            "<tf.Variable 'Variable:0' shape=() dtype=int16, numpy=1342>\n",
            "<tf.Variable 'Variable:0' shape=(4,) dtype=int32, numpy=array([12, 21, 21, 21], dtype=int32)>\n",
            "<tf.Variable 'Variable:0' shape=(4, 1) dtype=int32, numpy=\n",
            "array([[12],\n",
            "       [21],\n",
            "       [21],\n",
            "       [12]], dtype=int32)>\n",
            "<tf.Variable 'Variable:0' shape=(4, 3) dtype=int32, numpy=\n",
            "array([[32, 43, 23],\n",
            "       [23, 44, 53],\n",
            "       [60, 54, 81],\n",
            "       [56, 73, 24]], dtype=int32)>\n",
            "<tf.Variable 'Variable:0' shape=() dtype=string, numpy=b'Este registro fue generado con la informaci\\xc3\\xb3n de los clientes'>\n"
          ]
        }
      ]
    },
    {
      "cell_type": "markdown",
      "source": [
        "Si se dominan los atributos de los tensores, se puede omitir la forma y tipo de dato, y dejar que TensorFlow tome esas decisiones"
      ],
      "metadata": {
        "id": "Zz9ZwNNX6SPQ"
      }
    },
    {
      "cell_type": "code",
      "source": [
        "escalarFlotante = tf.Variable(23.43)\n",
        "print(escalarFlotante)"
      ],
      "metadata": {
        "colab": {
          "base_uri": "https://localhost:8080/"
        },
        "id": "ldrgDQS_6MyH",
        "outputId": "646c8bfc-3ffb-44ff-8d98-a7794d2efacc"
      },
      "execution_count": null,
      "outputs": [
        {
          "output_type": "stream",
          "name": "stdout",
          "text": [
            "<tf.Variable 'Variable:0' shape=() dtype=float32, numpy=23.43000030517578>\n"
          ]
        }
      ]
    },
    {
      "cell_type": "code",
      "source": [
        "vectorFila2 = tf.Variable([3.4,4.2,5])\n",
        "print(vectorFila2)"
      ],
      "metadata": {
        "colab": {
          "base_uri": "https://localhost:8080/"
        },
        "id": "Qkdm5J7Y6edW",
        "outputId": "3531f73b-fb91-46b0-df6f-246ed2c6d041"
      },
      "execution_count": null,
      "outputs": [
        {
          "output_type": "stream",
          "name": "stdout",
          "text": [
            "<tf.Variable 'Variable:0' shape=(3,) dtype=float32, numpy=array([3.4, 4.2, 5. ], dtype=float32)>\n"
          ]
        }
      ]
    },
    {
      "cell_type": "code",
      "source": [
        "matriz2 = tf.Variable([2,34,5,3],[43,23,532,23])\n",
        "print(matriz2)"
      ],
      "metadata": {
        "colab": {
          "base_uri": "https://localhost:8080/"
        },
        "id": "UJ3yQUSN6kwp",
        "outputId": "3727f0f8-e5b3-46fe-c2db-55b470ac833d"
      },
      "execution_count": null,
      "outputs": [
        {
          "output_type": "stream",
          "name": "stdout",
          "text": [
            "<tf.Variable 'Variable:0' shape=(4,) dtype=int32, numpy=array([ 2, 34,  5,  3], dtype=int32)>\n"
          ]
        }
      ]
    },
    {
      "cell_type": "code",
      "source": [
        "# Variable\n",
        "variable = tf.Variable([12.11,12.33,12.44,12.51,12.54])\n",
        "print(variable)"
      ],
      "metadata": {
        "colab": {
          "base_uri": "https://localhost:8080/"
        },
        "id": "TipJem6i7uDq",
        "outputId": "c9de537a-9511-4140-f036-5cfc8e80b6b4"
      },
      "execution_count": null,
      "outputs": [
        {
          "output_type": "stream",
          "name": "stdout",
          "text": [
            "<tf.Variable 'Variable:0' shape=(5,) dtype=float32, numpy=array([12.11, 12.33, 12.44, 12.51, 12.54], dtype=float32)>\n"
          ]
        }
      ]
    },
    {
      "cell_type": "code",
      "source": [
        "# Constant\n",
        "constante = tf.constant([[124,100,154,100],[30,44,23,50],\n",
        "                         [55,98,100,87]])\n",
        "print(constante)"
      ],
      "metadata": {
        "colab": {
          "base_uri": "https://localhost:8080/"
        },
        "id": "zOYZW-dF8pLb",
        "outputId": "e4833b35-5d79-47a6-e692-2f4ace54856a"
      },
      "execution_count": null,
      "outputs": [
        {
          "output_type": "stream",
          "name": "stdout",
          "text": [
            "tf.Tensor(\n",
            "[[124 100 154 100]\n",
            " [ 30  44  23  50]\n",
            " [ 55  98 100  87]], shape=(3, 4), dtype=int32)\n"
          ]
        }
      ]
    },
    {
      "cell_type": "code",
      "source": [
        "# Sparse Tensor\n",
        "tf.sparse.SparseTensor(indices=[[1,1],[2,3]],values=[20,44],dense_shape=[3,4])"
      ],
      "metadata": {
        "colab": {
          "base_uri": "https://localhost:8080/"
        },
        "id": "yXfNFecE8pNb",
        "outputId": "da88f95a-bbe6-415d-affe-d54d3ad36b83"
      },
      "execution_count": null,
      "outputs": [
        {
          "output_type": "execute_result",
          "data": {
            "text/plain": [
              "SparseTensor(indices=tf.Tensor(\n",
              "[[1 1]\n",
              " [2 3]], shape=(2, 2), dtype=int64), values=tf.Tensor([20 44], shape=(2,), dtype=int32), dense_shape=tf.Tensor([3 4], shape=(2,), dtype=int64))"
            ]
          },
          "metadata": {},
          "execution_count": 10
        }
      ]
    },
    {
      "cell_type": "markdown",
      "source": [
        "![image.png](data:image/png;base64,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)"
      ],
      "metadata": {
        "id": "U-XnayaJ9X8S"
      }
    },
    {
      "cell_type": "code",
      "source": [
        "# Placeholder\n",
        "#tf.compat.v1.disable_eager_execution()\n",
        "#x = tf.compat.v1.placeholder(tf.float32,shape=(1024,1024))\n",
        "#print(x)\n"
      ],
      "metadata": {
        "id": "I7izK_DH9YVC"
      },
      "execution_count": null,
      "outputs": []
    }
  ]
}